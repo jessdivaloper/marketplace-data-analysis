{
  "nbformat": 4,
  "nbformat_minor": 0,
  "metadata": {
    "colab": {
      "cell_execution_strategy": "setup",
      "provenance": [],
      "name": "4. Views e métricas"
    },
    "kernelspec": {
      "name": "python3",
      "display_name": "Python 3"
    },
    "language_info": {
      "name": "python"
    }
  },
  "cells": [
    {
      "cell_type": "markdown",
      "source": [
        "# Criação de views para facilitar a análise\n",
        "  **Views** e **tabelas agregadas** são essenciais para otimizar o acesso aos dados, melhorar o desempenho das consultas, centralizar a lógica de negócios e facilitar a análise e criação de métricas em sistemas de BI. Elas proporcionam uma maneira mais eficiente e segura de trabalhar com grandes volumes de dados e são ferramentas indispensáveis na entrega de *insights* precisos e rápidos para as equipes de negócios."
      ],
      "metadata": {
        "id": "19bPOESDIbI_"
      }
    },
    {
      "cell_type": "markdown",
      "source": [
        "## vw_fato_vendas"
      ],
      "metadata": {
        "id": "KrhA4CTFIjA-"
      }
    },
    {
      "cell_type": "code",
      "source": [
        "%%bigquery\n",
        "CREATE OR REPLACE VIEW `datawarehouse.vw_fato_vendas` AS\n",
        "SELECT\n",
        "    f.id_venda,\n",
        "    c.cliente,\n",
        "    fi.filial,\n",
        "    fi.municipio,\n",
        "    fi.uf,\n",
        "    pr.item,\n",
        "    pr.categoria,\n",
        "    pr.subcategoria,\n",
        "    EXTRACT(YEAR FROM f.data_venda) AS ano,\n",
        "    EXTRACT(MONTH FROM f.data_venda) AS mes,\n",
        "    EXTRACT(DAY FROM f.data_venda) AS dia,\n",
        "    DATE(f.data_venda) AS dt_venda,\n",
        "    f.vr_unitario,\n",
        "    f.vr_total_pago\n",
        "FROM `datawarehouse.fato_venda` f\n",
        "INNER JOIN `datawarehouse.dim_item` pr ON f.id_item = pr.id_item\n",
        "INNER JOIN `datawarehouse.dim_associado` pa ON f.id_associado = pa.id_associado\n",
        "INNER JOIN `datawarehouse.dim_filial` fi ON f.id_filial = fi.id_filial\n",
        "INNER JOIN `datawarehouse.dim_cliente` c ON f.id_cliente = c.id_cliente"
      ],
      "metadata": {
        "id": "1v5co7EMIjl2"
      },
      "execution_count": null,
      "outputs": []
    },
    {
      "cell_type": "code",
      "source": [
        "%%bigquery\n",
        "SELECT *\n",
        "FROM `datawarehouse.vw_fato_vendas`\n",
        "LIMIT 5"
      ],
      "metadata": {
        "id": "BXpFq8WJIkqq"
      },
      "execution_count": null,
      "outputs": []
    },
    {
      "cell_type": "markdown",
      "source": [
        "## vw_fato_vendas_tempo_cliente_item"
      ],
      "metadata": {
        "id": "rUHmvLFuK22c"
      }
    },
    {
      "cell_type": "code",
      "source": [
        "%%bigquery\n",
        "CREATE OR REPLACE VIEW `datawarehouse.vw_fato_vendas_tempo_cliente_item` AS\n",
        "SELECT\n",
        "    data_venda,\n",
        "    EXTRACT(YEAR FROM data_venda) AS ano,\n",
        "    EXTRACT(MONTH FROM data_venda) AS mes,\n",
        "    id_cliente,\n",
        "    id_item,\n",
        "    SUM(vr_unitario * qtde) AS total_vendas,\n",
        "    COUNT(DISTINCT id_venda) AS qtd_vendas,\n",
        "    AVG(vr_unitario * qtde) AS ticket_medio\n",
        "FROM `datawarehouse.fato_venda`\n",
        "GROUP BY data_venda, id_cliente, id_item;\n"
      ],
      "metadata": {
        "id": "8uKVIhHdKx5-"
      },
      "execution_count": null,
      "outputs": []
    },
    {
      "cell_type": "code",
      "source": [
        "%%bigquery\n",
        "SELECT *\n",
        "FROM `vw_fato_vendas_tempo_cliente_produto`\n",
        "LIMIT 10"
      ],
      "metadata": {
        "id": "oDF-43NmL0jO"
      },
      "execution_count": null,
      "outputs": []
    },
    {
      "cell_type": "code",
      "source": [
        "%%bigquery\n",
        "SELECT *\n",
        "FROM `vw_vendas_tempo_produto`\n",
        "LIMIT 10"
      ],
      "metadata": {
        "id": "1gCIQDCgL1Ls"
      },
      "execution_count": null,
      "outputs": []
    },
    {
      "cell_type": "markdown",
      "source": [
        "## vw_vendas_localizacao_cliente"
      ],
      "metadata": {
        "id": "ULZb6fSCL6hv"
      }
    },
    {
      "cell_type": "code",
      "source": [
        "%%bigquery\n",
        "CREATE OR REPLACE VIEW `datawarehouse.vw_vendas_localizacao_cliente` AS\n",
        "SELECT\n",
        "    l.uf,\n",
        "    l.municipio,\n",
        "    l.id_filial,\n",
        "    l.filial,\n",
        "    c.id_cliente,\n",
        "    c.cliente,\n",
        "    c.premium,\n",
        "    SUM(f.qtde) AS total_qtde,\n",
        "    SUM(f.vr_total_pago) AS total_vendas,\n",
        "    AVG(f.vr_unitario) AS media_vr_unitario\n",
        "FROM `datawarehouse.fato_venda` f\n",
        "JOIN `datawarehouse.dim_filial` l ON f.id_filial = l.id_filial\n",
        "JOIN `datawarehouse.dim_cliente` c ON f.id_cliente = c.id_cliente\n",
        "GROUP BY l.uf, l.municipio, l.id_filial, l.filial,\n",
        "c.id_cliente, c.cliente, c.premium"
      ],
      "metadata": {
        "id": "wEV6NKRoL4X6"
      },
      "execution_count": null,
      "outputs": []
    },
    {
      "cell_type": "markdown",
      "source": [
        "## vw_produto_subcategoria_categoria\n"
      ],
      "metadata": {
        "id": "BXAzBoigMojv"
      }
    },
    {
      "cell_type": "code",
      "source": [
        "%%bigquery\n",
        "CREATE VIEW `datawarehouse.vw_hierarquia_item_categoria` AS\n",
        "SELECT\n",
        "  categoria,\n",
        "  subcategoria,\n",
        "  item,\n",
        "  ROUND(SUM(vr_total_pago),2) AS total_vendas\n",
        "FROM `datawarehouse.fato_venda` f\n",
        "INNER JOIN `datawarehouse.dim_item` p ON f.id_item = p.id_item\n",
        "GROUP BY categoria, subcategoria, item"
      ],
      "metadata": {
        "id": "lmdtqgUKMpfH"
      },
      "execution_count": null,
      "outputs": []
    },
    {
      "cell_type": "markdown",
      "source": [
        "# Tabelas pré agregadas com métricas comuns"
      ],
      "metadata": {
        "id": "C5o9_1-QM6Ba"
      }
    },
    {
      "cell_type": "markdown",
      "source": [
        "## Criação da tabela: vendas_categoria_ano"
      ],
      "metadata": {
        "id": "0zDGuEheM6ua"
      }
    },
    {
      "cell_type": "code",
      "source": [
        "%%bigquery\n",
        "CREATE OR REPLACE TABLE `datawarehouse.vendas_categoria_ano` AS\n",
        "SELECT\n",
        "  p.categoria,\n",
        "  --EXTRACT(YEAR FROM PARSE_DATE('%Y%m%d', CAST(f.data_venda AS STRING))) AS ano,\n",
        "  EXTRACT(YEAR FROM f.data_venda) AS ano,\n",
        "  SUM(f.vr_total_pago) AS total_vendas\n",
        "FROM `datawarehouse.fato_venda` f\n",
        "JOIN `datawarehouse.dim_item` p ON f.id_item = p.id_item\n",
        "GROUP BY p.categoria, ano;"
      ],
      "metadata": {
        "id": "45AtNZpbNQ4a"
      },
      "execution_count": null,
      "outputs": []
    },
    {
      "cell_type": "code",
      "source": [
        "%%bigquery\n",
        "SELECT *\n",
        "FROM `datawarehouse.vendas_categoria_ano`\n",
        "LIMIT 5"
      ],
      "metadata": {
        "id": "kE4rIx0iNSQi"
      },
      "execution_count": null,
      "outputs": []
    },
    {
      "cell_type": "markdown",
      "source": [
        "## Criação da tabela: vendas_diarias"
      ],
      "metadata": {
        "id": "LIQaMpEdNYG6"
      }
    },
    {
      "cell_type": "code",
      "source": [
        "%%bigquery\n",
        "CREATE OR REPLACE TABLE `datawarehouse.vendas_diarias` AS\n",
        "WITH tmp_total_vendas AS (\n",
        "  SELECT\n",
        "    f.data_venda,\n",
        "    ROUND(SUM(f.vr_unitario * f.qtde),2) AS total_vendas,\n",
        "    COUNT(f.id_venda) as qtdade_vendas,\n",
        "    --AVG(SUM(f.vr_unitario * f.qtde)) OVER (GROUP BY f.id_venda) AS media\n",
        "  FROM `datawarehouse.fato_venda` f\n",
        "  GROUP BY  f.data_venda\n",
        ")\n",
        "SELECT\n",
        "  data_venda,\n",
        "  total_vendas,\n",
        "  qtdade_vendas,\n",
        "  round(total_vendas/qtdade_vendas, 2) as media\n",
        "FROM tmp_total_vendas\n"
      ],
      "metadata": {
        "id": "wfrH8bglNZBE"
      },
      "execution_count": null,
      "outputs": []
    },
    {
      "cell_type": "code",
      "source": [
        "%%bigquery\n",
        "SELECT *\n",
        "FROM `datawarehouse.vendas_diarias`\n",
        "LIMIT 5"
      ],
      "metadata": {
        "id": "eLNOF995Nzhb"
      },
      "execution_count": null,
      "outputs": []
    },
    {
      "cell_type": "markdown",
      "source": [
        "# Cálculo das comissões por parceiro"
      ],
      "metadata": {
        "id": "AYD0EVR5N3hL"
      }
    },
    {
      "cell_type": "markdown",
      "source": [
        "## Criação da procedure que calcula a comissão bruta e liquida por parceiro mensalmente"
      ],
      "metadata": {
        "id": "0YFN5wEEN4XN"
      }
    },
    {
      "cell_type": "code",
      "source": [
        "%%bigquery\n",
        "CREATE OR REPLACE PROCEDURE `datawarehouse.p_fato_comissao_mensal`()\n",
        "BEGIN\n",
        "\n",
        "  CREATE OR REPLACE TABLE `datawarehouse.comissao_mensal` AS\n",
        "  SELECT\n",
        "    f.id_associado,\n",
        "    pa.associado as associado,\n",
        "    FORMAT_DATE('%Y-%m', f.data_venda) AS mes_ano,\n",
        "    ROUND(SUM(f.vr_total_pago),2) AS total_vendas,\n",
        "    ROUND(SUM(f.qtde * ((f.vr_unitario * p.percentual)/100)),2) AS comissao_bruta,\n",
        "    0.0 as bonus_aplicado, -- força o dado a ser do tipo float\n",
        "    0.0 as comissao_final\n",
        "  FROM `datawarehouse.fato_venda` f\n",
        "  INNER JOIN `datawarehouse.dim_item` p ON f.id_item = p.id_item\n",
        "  INNER JOIN `datawarehouse.dim_associado` pa ON f.id_associado = pa.id_associado\n",
        "  GROUP BY f.id_associado, pa.associado, mes_ano;\n",
        "\n",
        "  -- Atualiza o valor da comissão bruta e comissão final\n",
        "  UPDATE `datawarehouse.comissao_mensal`\n",
        "  SET\n",
        "    bonus_aplicado =\n",
        "      CASE\n",
        "        WHEN (total_vendas >= 10000) AND (comissao_bruta >= 100) THEN 100 -- caso a comissão seja maior que 100\n",
        "        WHEN (total_vendas >= 10000) AND (comissao_bruta < 100) THEN comissao_bruta -- caso a comissão seja menor do que 100, o desconto é total\n",
        "        ELSE 0\n",
        "      END,\n",
        "\n",
        "    comissao_final =\n",
        "      CASE\n",
        "        WHEN (total_vendas >= 10000) AND (comissao_bruta >= 100) THEN ROUND(comissao_bruta - 100, 2) -- valor final da comissão subtraído os 100 de bonus\n",
        "        WHEN (total_vendas >= 10000) AND (comissao_bruta < 100) THEN 0 -- zerando a comissao\n",
        "        ELSE comissao_bruta\n",
        "      END\n",
        "  WHERE TRUE;\n",
        "\n",
        "  SELECT\n",
        "    associado,\n",
        "    mes_ano,\n",
        "    total_vendas,\n",
        "    comissao_bruta,\n",
        "    bonus_aplicado,\n",
        "    comissao_final\n",
        "  FROM `datawarehouse.comissao_mensal`\n",
        "  ORDER BY 1, 2;\n",
        "END;\n"
      ],
      "metadata": {
        "id": "VO9-hpbzObTX"
      },
      "execution_count": null,
      "outputs": []
    },
    {
      "cell_type": "markdown",
      "source": [
        "## Execução da procedure que calcula as comissão bruta e liquida por parceiro mensalmente"
      ],
      "metadata": {
        "id": "Wzy7V64QO5ta"
      }
    },
    {
      "cell_type": "code",
      "source": [
        "%%bigquery\n",
        "CALL `datawarehouse.p_fato_comissao_mensal`()"
      ],
      "metadata": {
        "id": "RruHuFqzO8sT"
      },
      "execution_count": null,
      "outputs": []
    },
    {
      "cell_type": "markdown",
      "source": [
        "## Cálculo da comissão mensal por associado\n"
      ],
      "metadata": {
        "id": "MDF1-l5hPfV1"
      }
    },
    {
      "cell_type": "code",
      "source": [
        "%%bigquery\n",
        "CREATE OR REPLACE TABLE `datawarehouse.comissao_mensal_associado` AS\n",
        "SELECT\n",
        "  id_associado,\n",
        "  associado,\n",
        "  mes_ano,\n",
        "  total_vendas,\n",
        "  comissao_bruta,\n",
        "  bonus_aplicado,\n",
        "  comissao_final,\n",
        "  ROUND(((comissao_bruta / total_vendas) * 100), 2) AS percentual_comissao_bruta,\n",
        "  ROUND(((comissao_final / total_vendas) * 100), 2) AS percentual_comissao_liquida,\n",
        "FROM `datawarehouse.comissao_mensal`\n",
        "ORDER BY 1, 2;"
      ],
      "metadata": {
        "id": "bTGHU5y0Phdm"
      },
      "execution_count": null,
      "outputs": []
    },
    {
      "cell_type": "markdown",
      "source": [
        "### Comparação da venda de um dia D com a média móvel dos últimos 30 dias anteriores à D.\n",
        "\n",
        "A Análise de Tendência de Vendas com Média Móvel é uma das ferramentas mais valiosas para identificar padrões e avaliar o desempenho de vendas ao longo do tempo. Ao comparar as vendas de um dia específico (Dia D) com a média móvel dos últimos 30 dias, você obtém uma visão mais clara e precisa da evolução das vendas, levando em consideração flutuações naturais e atenuando picos ou quedas sazonais."
      ],
      "metadata": {
        "id": "qJ5-8kLtP6Wc"
      }
    },
    {
      "cell_type": "code",
      "source": [
        "%%bigquery\n",
        "SELECT\n",
        "  FORMAT_TIMESTAMP('%Y-%m-%d', data_venda) AS data_venda,\n",
        "  media,\n",
        "  ROUND(AVG(media) OVER (ORDER BY data_venda ROWS BETWEEN 30 PRECEDING AND CURRENT ROW), 2) AS media_movel_30d,\n",
        "  ROUND(\n",
        "    (\n",
        "      (media - AVG(media) OVER (ORDER BY data_venda ROWS BETWEEN 30 PRECEDING AND CURRENT ROW)) /\n",
        "      AVG(media) OVER (ORDER BY data_venda ROWS BETWEEN 30 PRECEDING AND CURRENT ROW ) * 100\n",
        "    ), 2\n",
        "  ) AS variacao_percentual\n",
        "FROM `datawarehouse.vendas_diarias`"
      ],
      "metadata": {
        "id": "CBwlsiTHP9Pb"
      },
      "execution_count": null,
      "outputs": []
    },
    {
      "cell_type": "markdown",
      "source": [
        "### Comparação da venda do dia atual com a venda do dia anterior\n",
        "\n",
        "Essa informação possibilita monitorar a performance diária de vendas e identificar flutuações ou tendências imediatas."
      ],
      "metadata": {
        "id": "LR5XjRPlQsAs"
      }
    },
    {
      "cell_type": "code",
      "source": [
        "%%bigquery\n",
        "SELECT\n",
        "  FORMAT_TIMESTAMP('%Y-%m-%d', t.data_venda) AS data_venda,\n",
        "  t.total_vendas,\n",
        "  t.media,\n",
        "  FORMAT_TIMESTAMP('%Y-%m-%d', TIMESTAMP_SUB(t.data_venda, INTERVAL 1 DAY)) AS dia_anterior,\n",
        "  IFNULL(tvd.media, 0) AS media_dia_anterior,\n",
        "  CASE\n",
        "    WHEN tvd.media = 0 THEN 0 -- caso não exista registros do dia anterior o valor será 0\n",
        "    ELSE ROUND(((t.media / tvd.media) * 100), 2)\n",
        "  END AS variacao_percentual\n",
        "FROM `datawarehouse.vendas_diarias` t\n",
        "LEFT JOIN `datawarehouse.vendas_diarias` tvd\n",
        "  ON tvd.data_venda = TIMESTAMP_SUB(t.data_venda, INTERVAL 1 DAY)\n",
        "ORDER BY t.data_venda\n",
        "LIMIT 5"
      ],
      "metadata": {
        "id": "zbeeCOddQswF"
      },
      "execution_count": null,
      "outputs": []
    },
    {
      "cell_type": "markdown",
      "source": [
        "### Soma acumulada das vendas de um parceiro no mês\n",
        "\n",
        "Essa métrica é importante porque oferece uma visão clara e consolidada do desempenho de vendas de um parceiro ao longo de um período específico, permitindo uma série de análises e decisões estratégicas."
      ],
      "metadata": {
        "id": "RFWW_-9RQ96L"
      }
    },
    {
      "cell_type": "code",
      "source": [
        "%%bigquery\n",
        "CREATE OR REPLACE VIEW `datawarehouse.vw_vendas_associado_mes` AS\n",
        "SELECT\n",
        "  pa.associado,\n",
        "  FORMAT_DATE('%Y-%m', f.data_venda) AS mes_ano,\n",
        "  ROUND(SUM(f.vr_unitario * f.qtde),2) AS total_vendas,\n",
        "FROM `datawarehouse.fato_venda` f\n",
        "INNER JOIN `datawarehouse.dim_associado` pa ON pa.id_associado = f.id_associado\n",
        "GROUP BY pa.associado, mes_ano\n",
        "ORDER BY pa.associado, mes_ano;\n",
        "\n",
        "SELECT *\n",
        "FROM `datawarehouse.vw_vendas_associado_mes`"
      ],
      "metadata": {
        "id": "PuCGstsQQ-R6"
      },
      "execution_count": null,
      "outputs": []
    },
    {
      "cell_type": "markdown",
      "source": [
        "### Soma acumulada das vendas de um parceiro por categoria no mês\n",
        "\n",
        "Fornece insights detalhados sobre o desempenho de vendas em diferentes segmentos de produto ou serviço ao longo do mês."
      ],
      "metadata": {
        "id": "1UiXD8sERTxK"
      }
    },
    {
      "cell_type": "code",
      "source": [
        "%%bigquery\n",
        "--CREATE OR REPLACE VIEW `datawarehouse.vw_soma_associado_categoria_mensal` AS\n",
        "\n",
        "SELECT\n",
        "  pa.associado,\n",
        "  FORMAT_DATE('%Y-%m', f.data_venda) AS mes_ano,\n",
        "  p.categoria,\n",
        "  ROUND(SUM(f.vr_unitario * f.qtde),2) AS total_vendas,\n",
        "FROM `datawarehouse.fato_venda` f\n",
        "INNER JOIN `datawarehouse.dim_item` p ON f.id_item = p.id_item\n",
        "INNER JOIN `datawarehouse.dim_associado` pa ON pa.id_associado = f.id_associado\n",
        "GROUP BY  pa.associado,\n",
        "          mes_ano,\n",
        "          p.categoria\n",
        "ORDER BY pa.associado, mes_ano, p.categoria"
      ],
      "metadata": {
        "id": "cGsfqzB6RW-n"
      },
      "execution_count": null,
      "outputs": []
    },
    {
      "cell_type": "markdown",
      "source": [
        "### Calcule o imposto mensal aplicando uma alíquota de 7,5% sobre o valor das vendas, e rateie proporcionalmente entre os parceiros com base no valor da comissão de cada um. Certifique-se de que os impostos de um mês não sejam distribuídos em outro.\n"
      ],
      "metadata": {
        "id": "XEPzmZzKR5xN"
      }
    },
    {
      "cell_type": "code",
      "source": [
        "## Para fim de verificação calculei o imposto_mensal_geral\n",
        "%%bigquery\n",
        "CREATE OR REPLACE VIEW `datawarehouse.vw_imposto_mensal_geral` AS\n",
        "SELECT\n",
        "  FORMAT_DATE('%Y-%m', f.data_venda) AS mes,\n",
        "  ROUND(SUM(f.vr_unitario * f.qtde),2) AS total_vendas,\n",
        "  ROUND(((SUM(f.vr_unitario * f.qtde) * 7.5)/100), 2) AS imposto\n",
        "FROM `datawarehouse.fato_venda` f\n",
        "INNER JOIN `datawarehouse.dim_associado` pa ON pa.id_associado = f.id_associado\n",
        "GROUP BY mes\n",
        "ORDER BY mes"
      ],
      "metadata": {
        "id": "BY30uTKRR6rA"
      },
      "execution_count": null,
      "outputs": []
    },
    {
      "cell_type": "code",
      "source": [
        "%%bigquery\n",
        "SELECT *\n",
        "FROM `datawarehouse.vw_imposto_mensal_geral`\n"
      ],
      "metadata": {
        "id": "Q0l7FrRUSVA9"
      },
      "execution_count": null,
      "outputs": []
    },
    {
      "cell_type": "code",
      "source": [
        "%%bigquery\n",
        "CREATE OR REPLACE VIEW `datawarehouse.vw_imposto_associado_rateado` AS\n",
        "  SELECT\n",
        "    associado as associado,\n",
        "    mes_ano,\n",
        "    total_vendas,\n",
        "    comissao_final,\n",
        "    ROUND((total_vendas * 9.25) / 100, 2) AS imposto_total,\n",
        "    ROUND(\n",
        "      (comissao_final / SUM(comissao_final) OVER (PARTITION BY mes_ano)) * ((total_vendas * 9.25) / 100),\n",
        "      2\n",
        "    ) AS imposto_rateado\n",
        "  FROM `datawarehouse.comissao_mensal_associado`\n",
        "  ORDER BY associado, mes_ano;"
      ],
      "metadata": {
        "id": "1QU_y0MMSh7z"
      },
      "execution_count": null,
      "outputs": []
    },
    {
      "cell_type": "code",
      "source": [
        "%%bigquery\n",
        "SELECT *\n",
        "FROM `datawarehouse.vw_imposto_parceiro_rateado`"
      ],
      "metadata": {
        "id": "my04wIr6SlTk"
      },
      "execution_count": null,
      "outputs": []
    },
    {
      "cell_type": "code",
      "source": [
        "%%bigquery\n",
        "SELECT *\n",
        "FROM `datawarehouse.vw_imposto_parceiro`"
      ],
      "metadata": {
        "id": "JvAwJ4VySqiL"
      },
      "execution_count": null,
      "outputs": []
    }
  ]
}