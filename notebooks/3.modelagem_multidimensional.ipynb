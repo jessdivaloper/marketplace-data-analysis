{
  "nbformat": 4,
  "nbformat_minor": 0,
  "metadata": {
    "colab": {
      "name": "3. Modelagem Multidimensional",
      "cell_execution_strategy": "setup",
      "provenance": [],
      "collapsed_sections": [
        "0bcOKiuapUoH",
        "NTfBe2vPpyls",
        "8L8AJyCwG5Dt"
      ],
      "toc_visible": true
    },
    "kernelspec": {
      "name": "python3",
      "display_name": "Python 3"
    },
    "language_info": {
      "name": "python"
    }
  },
  "cells": [
    {
      "cell_type": "markdown",
      "source": [
        "# Modelagem Multidimensional\n",
        "\n",
        "A modelagem multidimensional é uma abordagem otimizada para armazenamento e análise de dados, especialmente em cenários de Business Intelligence e Data Warehousing. Seu principal objetivo é facilitar consultas rápidas e análises eficientes, organizando os dados em **dimensões** (entidades descritivas) e **tabelas fato** (eventos quantitativos).  \n",
        "\n",
        "Na solução proposta, foram criadas as dimensões **Cliente, Filial, Parceiro e Produto**, pois essas entidades fornecem contexto para as análises de vendas. A tabela **Fato_Vendas** centraliza os dados transacionais, armazenando métricas como valores de venda, quantidade de produtos e datas das transações. Essa estrutura permite análises detalhadas de desempenho por diferentes perspectivas, como comportamento dos clientes, impacto dos parceiros e evolução das vendas ao longo do tempo."
      ],
      "metadata": {
        "id": "0bcOKiuapUoH"
      }
    },
    {
      "cell_type": "markdown",
      "source": [
        "## Dimensão Cliente"
      ],
      "metadata": {
        "id": "MyfZFGr9pjF8"
      }
    },
    {
      "cell_type": "code",
      "source": [
        "%%bigquery\n",
        "CREATE OR REPLACE TABLE `datawarehouse.dim_cliente` AS\n",
        "SELECT id_cliente, cliente, premium\n",
        "FROM `staging.cliente` c"
      ],
      "metadata": {
        "colab": {
          "base_uri": "https://localhost:8080/",
          "height": 85,
          "referenced_widgets": [
            "43200c246fc24b80af4b58184d881852",
            "21eff35b5a1e42ba858d98b1f9882488",
            "9bba47f8833b4cfdbb2e1c8d07e2b10e",
            "f58e592c8e2d431eb712590b95bdeb28",
            "60542e8869c246db995fb1bd64fc824a",
            "a2fed61eadde4dbc886610b9e79cf4f2",
            "2731d05e7f6c4cc68129a252e7c2fa40",
            "64b46006014a47c786c4a09f2bd7dd55",
            "33a24644097c40abaac4d4e30b94e768",
            "069ec04318144e1cbbc980f35a4df533",
            "95da53f7ab804592b456fb89d525a223"
          ]
        },
        "id": "uuBvAfYMpg_8",
        "executionInfo": {
          "status": "ok",
          "timestamp": 1747794586158,
          "user_tz": 180,
          "elapsed": 6320,
          "user": {
            "displayName": "",
            "userId": ""
          }
        },
        "outputId": "244585b5-21d9-4ffb-a965-e8e5326f8bf4"
      },
      "execution_count": null,
      "outputs": [
        {
          "output_type": "display_data",
          "data": {
            "text/plain": [
              "Query is running:   0%|          |"
            ],
            "application/vnd.jupyter.widget-view+json": {
              "version_major": 2,
              "version_minor": 0,
              "model_id": "43200c246fc24b80af4b58184d881852"
            }
          },
          "metadata": {}
        },
        {
          "output_type": "execute_result",
          "data": {
            "text/plain": [
              "Empty DataFrame\n",
              "Columns: []\n",
              "Index: []"
            ],
            "text/html": [
              "\n",
              "  <div id=\"df-6c230d30-9ab7-48bb-8f5a-21dce66ded58\" class=\"colab-df-container\">\n",
              "    <div>\n",
              "<style scoped>\n",
              "    .dataframe tbody tr th:only-of-type {\n",
              "        vertical-align: middle;\n",
              "    }\n",
              "\n",
              "    .dataframe tbody tr th {\n",
              "        vertical-align: top;\n",
              "    }\n",
              "\n",
              "    .dataframe thead th {\n",
              "        text-align: right;\n",
              "    }\n",
              "</style>\n",
              "<table border=\"1\" class=\"dataframe\">\n",
              "  <thead>\n",
              "    <tr style=\"text-align: right;\">\n",
              "      <th></th>\n",
              "    </tr>\n",
              "  </thead>\n",
              "  <tbody>\n",
              "  </tbody>\n",
              "</table>\n",
              "</div>\n",
              "    <div class=\"colab-df-buttons\">\n",
              "\n",
              "  <div class=\"colab-df-container\">\n",
              "    <button class=\"colab-df-convert\" onclick=\"convertToInteractive('df-6c230d30-9ab7-48bb-8f5a-21dce66ded58')\"\n",
              "            title=\"Convert this dataframe to an interactive table.\"\n",
              "            style=\"display:none;\">\n",
              "\n",
              "  <svg xmlns=\"http://www.w3.org/2000/svg\" height=\"24px\" viewBox=\"0 -960 960 960\">\n",
              "    <path d=\"M120-120v-720h720v720H120Zm60-500h600v-160H180v160Zm220 220h160v-160H400v160Zm0 220h160v-160H400v160ZM180-400h160v-160H180v160Zm440 0h160v-160H620v160ZM180-180h160v-160H180v160Zm440 0h160v-160H620v160Z\"/>\n",
              "  </svg>\n",
              "    </button>\n",
              "\n",
              "  <style>\n",
              "    .colab-df-container {\n",
              "      display:flex;\n",
              "      gap: 12px;\n",
              "    }\n",
              "\n",
              "    .colab-df-convert {\n",
              "      background-color: #E8F0FE;\n",
              "      border: none;\n",
              "      border-radius: 50%;\n",
              "      cursor: pointer;\n",
              "      display: none;\n",
              "      fill: #1967D2;\n",
              "      height: 32px;\n",
              "      padding: 0 0 0 0;\n",
              "      width: 32px;\n",
              "    }\n",
              "\n",
              "    .colab-df-convert:hover {\n",
              "      background-color: #E2EBFA;\n",
              "      box-shadow: 0px 1px 2px rgba(60, 64, 67, 0.3), 0px 1px 3px 1px rgba(60, 64, 67, 0.15);\n",
              "      fill: #174EA6;\n",
              "    }\n",
              "\n",
              "    .colab-df-buttons div {\n",
              "      margin-bottom: 4px;\n",
              "    }\n",
              "\n",
              "    [theme=dark] .colab-df-convert {\n",
              "      background-color: #3B4455;\n",
              "      fill: #D2E3FC;\n",
              "    }\n",
              "\n",
              "    [theme=dark] .colab-df-convert:hover {\n",
              "      background-color: #434B5C;\n",
              "      box-shadow: 0px 1px 3px 1px rgba(0, 0, 0, 0.15);\n",
              "      filter: drop-shadow(0px 1px 2px rgba(0, 0, 0, 0.3));\n",
              "      fill: #FFFFFF;\n",
              "    }\n",
              "  </style>\n",
              "\n",
              "    <script>\n",
              "      const buttonEl =\n",
              "        document.querySelector('#df-6c230d30-9ab7-48bb-8f5a-21dce66ded58 button.colab-df-convert');\n",
              "      buttonEl.style.display =\n",
              "        google.colab.kernel.accessAllowed ? 'block' : 'none';\n",
              "\n",
              "      async function convertToInteractive(key) {\n",
              "        const element = document.querySelector('#df-6c230d30-9ab7-48bb-8f5a-21dce66ded58');\n",
              "        const dataTable =\n",
              "          await google.colab.kernel.invokeFunction('convertToInteractive',\n",
              "                                                    [key], {});\n",
              "        if (!dataTable) return;\n",
              "\n",
              "        const docLinkHtml = 'Like what you see? Visit the ' +\n",
              "          '<a target=\"_blank\" href=https://colab.research.google.com/notebooks/data_table.ipynb>data table notebook</a>'\n",
              "          + ' to learn more about interactive tables.';\n",
              "        element.innerHTML = '';\n",
              "        dataTable['output_type'] = 'display_data';\n",
              "        await google.colab.output.renderOutput(dataTable, element);\n",
              "        const docLink = document.createElement('div');\n",
              "        docLink.innerHTML = docLinkHtml;\n",
              "        element.appendChild(docLink);\n",
              "      }\n",
              "    </script>\n",
              "  </div>\n",
              "\n",
              "\n",
              "    </div>\n",
              "  </div>\n"
            ],
            "application/vnd.google.colaboratory.intrinsic+json": {
              "type": "dataframe",
              "summary": "{\n  \"name\": \"get_ipython()\",\n  \"rows\": 0,\n  \"fields\": []\n}"
            }
          },
          "metadata": {},
          "execution_count": 1
        }
      ]
    },
    {
      "cell_type": "markdown",
      "source": [
        "## Dimensão Filial"
      ],
      "metadata": {
        "id": "-YFvyVBFplkr"
      }
    },
    {
      "cell_type": "code",
      "source": [
        "%%bigquery\n",
        "CREATE OR REPLACE TABLE `datawarehouse.dim_filial` AS\n",
        "SELECT\n",
        "  f.id_filial,\n",
        "  f.filial,\n",
        "  m.municipio,\n",
        "  u.uf\n",
        "FROM `staging.filial` f\n",
        "INNER JOIN `staging.municipio` m ON (m.id_municipio = f.id_municipio)\n",
        "INNER JOIN `staging.uf` u ON (u.id_uf = m.id_uf)\n"
      ],
      "metadata": {
        "id": "jlyK2tngrRCB"
      },
      "execution_count": null,
      "outputs": []
    },
    {
      "cell_type": "markdown",
      "source": [
        "## Dimensão Parceiro"
      ],
      "metadata": {
        "id": "BVmLHg2VpmTX"
      }
    },
    {
      "cell_type": "code",
      "source": [
        "%%bigquery\n",
        "CREATE OR REPLACE TABLE `datawarehouse.dim_associado` AS\n",
        "SELECT id_associado, associado\n",
        "FROM `staging.associado`"
      ],
      "metadata": {
        "id": "lBDBDgvxtMxH"
      },
      "execution_count": null,
      "outputs": []
    },
    {
      "cell_type": "markdown",
      "source": [
        "## Dimensão Item"
      ],
      "metadata": {
        "id": "_wJsHQ3apoCB"
      }
    },
    {
      "cell_type": "code",
      "source": [
        "%%bigquery\n",
        "CREATE OR REPLACE TABLE `datawarehouse.dim_item` AS\n",
        "SELECT\n",
        "  id_item,\n",
        "  item,\n",
        "  subcategoria,\n",
        "  categoria,\n",
        "  percentual\n",
        "FROM `staging.item` p\n",
        "INNER JOIN `staging.subcategoria` sc ON (sc.id_subcategoria = p.id_subcategoria)\n",
        "INNER JOIN `staging.categoria` c ON (c.id_categoria = sc.id_categoria)"
      ],
      "metadata": {
        "id": "ncNGfwLiCaxK"
      },
      "execution_count": null,
      "outputs": []
    },
    {
      "cell_type": "markdown",
      "source": [
        "## Fato Venda"
      ],
      "metadata": {
        "id": "syttNkAspr44"
      }
    },
    {
      "cell_type": "code",
      "source": [
        "%%bigquery\n",
        "CREATE TABLE `datawarehouse.fato_venda`\n",
        "PARTITION BY DATE(data_venda) AS\n",
        "SELECT\n",
        "  v.id_venda,\n",
        "  iv.id_item,\n",
        "  v.id_cliente,\n",
        "  v.id_filial,\n",
        "  v.id_associado,\n",
        "  --venda,\n",
        "  v.data_venda,\n",
        "  iv.qtde,\n",
        "  iv.vr_unitario,\n",
        "  v.vr_total_pago\n",
        "FROM `staging.venda` v\n",
        "JOIN `staging.item_venda` iv ON iv.id_venda = v.id_venda"
      ],
      "metadata": {
        "id": "prGUQ86iDNjG"
      },
      "execution_count": null,
      "outputs": []
    },
    {
      "cell_type": "markdown",
      "source": [
        "# Conferindo a quantidade de dados inseridos"
      ],
      "metadata": {
        "id": "NTfBe2vPpyls"
      }
    },
    {
      "cell_type": "code",
      "source": [
        "#from google.cloud import bigquery\n",
        "#client = bigquery.Client()"
      ],
      "metadata": {
        "id": "e8gGiV-RGgFC"
      },
      "execution_count": null,
      "outputs": []
    },
    {
      "cell_type": "code",
      "source": [
        "tabelas = [\"cliente\",\n",
        "            \"filial\",\n",
        "            \"parceiro\",\n",
        "            \"produto\"\n",
        "          ]\n",
        "#\"fato_pedido\""
      ],
      "metadata": {
        "id": "8eQOpYxdGc0t"
      },
      "execution_count": null,
      "outputs": []
    },
    {
      "cell_type": "markdown",
      "source": [
        "## Dimensões"
      ],
      "metadata": {
        "id": "8L8AJyCwG5Dt"
      }
    },
    {
      "cell_type": "code",
      "source": [
        "for table in tabelas:\n",
        "  query = f\"\"\"\n",
        "              SELECT COUNT(*) as qtdade\n",
        "              FROM `datawarehouse.dim_{table}`;\n",
        "          \"\"\"\n",
        "  #f\"desafio-luizalabs-452215.dataset.{table}\"\n",
        "\n",
        "  job_config = bigquery.QueryJobConfig(allow_large_results=True)  # Permite resultados grandes\n",
        "  query_job = client.query(query, job_config=job_config)\n",
        "\n",
        "  df = query_job.to_dataframe()  # Converte para Pandas\n",
        "\n",
        "  print(f\"Tabela: dim_{table} - recebeu {df['qtdade'][0]} linhas inseridas.\")"
      ],
      "metadata": {
        "id": "fOvmDzjGGiDn"
      },
      "execution_count": null,
      "outputs": []
    },
    {
      "cell_type": "markdown",
      "source": [
        "## Fato Venda"
      ],
      "metadata": {
        "id": "fkFnFk3GGrbl"
      }
    },
    {
      "cell_type": "code",
      "source": [
        "query = f\"\"\"\n",
        "            SELECT COUNT(*) as qtdade\n",
        "            FROM `datawarehouse.fato_vendas`;\n",
        "        \"\"\"\n",
        "job_config = bigquery.QueryJobConfig(allow_large_results=True)  # Permite resultados grandes\n",
        "query_job = client.query(query, job_config=job_config)\n",
        "\n",
        "df = query_job.to_dataframe()  # Converte para um dataframe -\n",
        "\n",
        "print(f\"Tabela: fato_pedido - {df['qtdade'][0]} linhas inseridas.\")"
      ],
      "metadata": {
        "id": "GfqLH7XuGp9u"
      },
      "execution_count": null,
      "outputs": []
    }
  ]
}