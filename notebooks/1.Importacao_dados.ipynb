{
  "nbformat": 4,
  "nbformat_minor": 0,
  "metadata": {
    "colab": {
      "name": "1. Importação dos dados",
      "cell_execution_strategy": "setup",
      "provenance": []
    },
    "kernelspec": {
      "name": "python3",
      "display_name": "Python 3"
    },
    "language_info": {
      "name": "python"
    }
  },
  "cells": [
    {
      "cell_type": "markdown",
      "source": [
        "# Criação de Tabelas no BigQuery a partir do Google Cloud Storage\n",
        "\n",
        "Após a criação do bucket no **Google Cloud Storage**, os arquivos **.parquet** foram carregados. Em seguida, um script em **Python** será utilizado para criar as tabelas automaticamente no **BigQuery**, garantindo a integração eficiente dos dados.\n",
        "\n",
        "O conjunto de dados **raw** foi criado para o armazenamento dos dados brutos, essa camada mantém os dados na sua forma original, sem transformações ou modificações. Isso garante que os dados completos e não processados estejam disponíveis para auditorias ou recriação de análises.\n"
      ],
      "metadata": {
        "id": "p86NASTrQNu-"
      }
    },
    {
      "cell_type": "code",
      "source": [
        "from google.cloud import bigquery"
      ],
      "metadata": {
        "id": "OJ-WFID6QUz1",
        "executionInfo": {
          "status": "ok",
          "timestamp": 1747336355297,
          "user_tz": 180,
          "elapsed": 3672,
          "user": {
            "displayName": "",
            "userId": ""
          }
        }
      },
      "execution_count": 1,
      "outputs": []
    },
    {
      "cell_type": "code",
      "source": [
        "project_id = \"marketplace-challenge-456003\"  # substitua pelo seu ID real\n",
        "conjunto = \"staging\"\n",
        "dataset_id = f\"{project_id}.{conjunto}\""
      ],
      "metadata": {
        "id": "or2VAib4nEbi",
        "executionInfo": {
          "status": "ok",
          "timestamp": 1747336638928,
          "user_tz": 180,
          "elapsed": 421,
          "user": {
            "displayName": "",
            "userId": ""
          }
        }
      },
      "execution_count": 8,
      "outputs": []
    },
    {
      "cell_type": "code",
      "source": [
        "tabelas = [\"associado\",\n",
        "            \"categoria\",\n",
        "            \"cliente\",\n",
        "            \"filial\",\n",
        "            \"item\",\n",
        "            \"item_venda\",\n",
        "            #\"municipio\",\n",
        "            \"subcategoria\",\n",
        "            \"uf\",\n",
        "            \"venda\"]  # substitua pelos nomes reais"
      ],
      "metadata": {
        "id": "5_JVkV7MQWAm",
        "executionInfo": {
          "status": "ok",
          "timestamp": 1747336642146,
          "user_tz": 180,
          "elapsed": 442,
          "user": {
            "displayName": "",
            "userId": ""
          }
        }
      },
      "execution_count": 9,
      "outputs": []
    },
    {
      "cell_type": "code",
      "source": [
        "for table in tabelas:\n",
        "    # Criar cliente BigQuery\n",
        "    client = bigquery.Client()\n",
        "\n",
        "    tabela_id = f\"{dataset_id}.{table}\"\n",
        "    uri = f\"gs://bucket-jessinha/parquet_files/{table}.parquet\"\n",
        "\n",
        "    # Configuração do job de carga para PARQUET\n",
        "    job_config = bigquery.LoadJobConfig(\n",
        "        source_format=bigquery.SourceFormat.PARQUET,\n",
        "        autodetect=True  # Detectar o schema automaticamente\n",
        "    )\n",
        "\n",
        "    # Executar a importação\n",
        "    job = client.load_table_from_uri(uri, tabela_id, job_config=job_config)\n",
        "    job.result()  # Aguarda a conclusão\n",
        "\n",
        "    # Exibir resultado\n",
        "    tabela = client.get_table(tabela_id)\n",
        "    print(f\"Carga concluída! A tabela {tabela.table_id} tem {tabela.num_rows} linhas.\")\n"
      ],
      "metadata": {
        "colab": {
          "base_uri": "https://localhost:8080/"
        },
        "id": "JN0EoUmJQMPB",
        "executionInfo": {
          "status": "ok",
          "timestamp": 1747336722524,
          "user_tz": 180,
          "elapsed": 54933,
          "user": {
            "displayName": "",
            "userId": ""
          }
        },
        "outputId": "e7c42ccd-48e5-4b0b-fab4-c8a4e3f1d067"
      },
      "execution_count": 11,
      "outputs": [
        {
          "output_type": "stream",
          "name": "stdout",
          "text": [
            "Carga concluída! A tabela associado tem 13 linhas.\n",
            "Carga concluída! A tabela categoria tem 38 linhas.\n",
            "Carga concluída! A tabela cliente tem 560340 linhas.\n",
            "Carga concluída! A tabela filial tem 1738 linhas.\n",
            "Carga concluída! A tabela item tem 103299 linhas.\n",
            "Carga concluída! A tabela item_venda tem 445244 linhas.\n",
            "Carga concluída! A tabela subcategoria tem 3295 linhas.\n",
            "Carga concluída! A tabela uf tem 49 linhas.\n",
            "Carga concluída! A tabela venda tem 401058 linhas.\n"
          ]
        }
      ]
    },
    {
      "cell_type": "code",
      "source": [],
      "metadata": {
        "id": "1I6sTpuwSADM"
      },
      "execution_count": null,
      "outputs": []
    }
  ]
}